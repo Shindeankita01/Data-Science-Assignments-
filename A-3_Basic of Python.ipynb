{
 "cells": [
  {
   "cell_type": "markdown",
   "metadata": {
    "id": "c0ezRnl6HAPZ"
   },
   "source": [
    "* Exercise 1: Prime Numbers\n",
    "  Write a Python program that checks whether a given number is prime or not. A prime number is a natural number greater than 1   that has no positive divisors other than 1 and itself.\n"
   ]
  },
  {
   "cell_type": "code",
   "execution_count": 1,
   "metadata": {
    "colab": {
     "base_uri": "https://localhost:8080/"
    },
    "id": "Qi10PsgvHGWL",
    "outputId": "df97af83-3133-4b8a-dc09-98cb889dcceb"
   },
   "outputs": [
    {
     "name": "stdout",
     "output_type": "stream",
     "text": [
      "Enter A number : 13\n",
      " Prime number\n"
     ]
    }
   ],
   "source": [
    "\"\"\"\n",
    "1. First i craete a variable which take a user input.\n",
    "2. Apply logic for prime number.\n",
    "2.1 first i chech weather number is greater than one.\n",
    "2.2 if number is greater than one then  i check its divisor number using for loop and itrate it in between range 1 to give number\n",
    "3. final i check for given number is prime or  not\n",
    "\"\"\"\n",
    "\n",
    "num = int(input(\"Enter A number : \"))\n",
    "if num<=1 :\n",
    "  print(\"Not a prime Number\")\n",
    "\n",
    "else:\n",
    "  for i in range(2,num):\n",
    "\n",
    "    if num%i == 0:\n",
    "      print(\"Not a Prime number\")\n",
    "      break\n",
    "\n",
    "    else:\n",
    "      print(\" Prime number\")\n",
    "      break\n",
    "\n"
   ]
  },
  {
   "cell_type": "code",
   "execution_count": null,
   "metadata": {
    "colab": {
     "base_uri": "https://localhost:8080/"
    },
    "id": "Tfku1W6BZAAw",
    "outputId": "1fb780b4-9d63-4870-b5b2-47eabbc99519"
   },
   "outputs": [],
   "source": [
    "\n"
   ]
  },
  {
   "cell_type": "markdown",
   "metadata": {
    "id": "4SMnWBKaHyF7"
   },
   "source": [
    "* Exercise 2: Product of Random Numbers                                                                                           Develop a Python program that generates two random numbers and asks the user to enter the product of these numbers. The         program should then check if the user's answer is correct and display an appropriate message.\n"
   ]
  },
  {
   "cell_type": "code",
   "execution_count": 2,
   "metadata": {
    "colab": {
     "base_uri": "https://localhost:8080/"
    },
    "id": "097gai0E1mnS",
    "outputId": "fba734a5-e969-4564-95b0-879d970f85ca"
   },
   "outputs": [
    {
     "name": "stdout",
     "output_type": "stream",
     "text": [
      "Number 1 = 6\n",
      "Number 2 = 7\n",
      "Enter the product of above numbers :42\n",
      "Correct Answer\n"
     ]
    }
   ],
   "source": [
    "\"\"\"\n",
    "1. First i import random lib to generate random number\n",
    "2. i take 2 variable and assing randint function to generate random number in between 1 to 10\n",
    "3.  Print a generated number to guess its product from user\n",
    "4. create a variable which store the guess of the give two number\n",
    "5. last i check the guess is correct or not\n",
    "\n",
    "\"\"\"\n",
    "\n",
    "import random\n",
    "x=random.randint(1,10)\n",
    "y=random.randint(1,10)\n",
    "print(\"Number 1 =\", x)\n",
    "print(\"Number 2 =\", y)\n",
    "Answer=int(input(\"Enter the product of above numbers :\"))\n",
    "if Answer== x*y:\n",
    "  print(\"Correct Answer\")\n",
    "else:\n",
    "  print(\"Incorrect Answer\")"
   ]
  },
  {
   "cell_type": "markdown",
   "metadata": {
    "id": "n4UV6y_AHzGk"
   },
   "source": [
    "* Exercise 3: Squares of Even/Odd Numbers                                                                                      Create a Python script that prints the squares of all even or odd numbers within the range of 100 to 200. Choose either even or odd numbers and document your choice in the code.\n"
   ]
  },
  {
   "cell_type": "code",
   "execution_count": 3,
   "metadata": {
    "colab": {
     "base_uri": "https://localhost:8080/"
    },
    "id": "ylvIkeoi0zfH",
    "outputId": "e03c17f3-fca4-4dfd-9eba-5b3bbeee4a28"
   },
   "outputs": [
    {
     "name": "stdout",
     "output_type": "stream",
     "text": [
      "Squares of Even Numbers\n",
      "100   10000\n",
      "102   10404\n",
      "104   10816\n",
      "106   11236\n",
      "108   11664\n",
      "110   12100\n",
      "112   12544\n",
      "114   12996\n",
      "116   13456\n",
      "118   13924\n",
      "120   14400\n",
      "122   14884\n",
      "124   15376\n",
      "126   15876\n",
      "128   16384\n",
      "130   16900\n",
      "132   17424\n",
      "134   17956\n",
      "136   18496\n",
      "138   19044\n",
      "140   19600\n",
      "142   20164\n",
      "144   20736\n",
      "146   21316\n",
      "148   21904\n",
      "150   22500\n",
      "152   23104\n",
      "154   23716\n",
      "156   24336\n",
      "158   24964\n",
      "160   25600\n",
      "162   26244\n",
      "164   26896\n",
      "166   27556\n",
      "168   28224\n",
      "170   28900\n",
      "172   29584\n",
      "174   30276\n",
      "176   30976\n",
      "178   31684\n",
      "180   32400\n",
      "182   33124\n",
      "184   33856\n",
      "186   34596\n",
      "188   35344\n",
      "190   36100\n",
      "192   36864\n",
      "194   37636\n",
      "196   38416\n",
      "198   39204\n"
     ]
    }
   ],
   "source": [
    "\"\"\"\n",
    "1. First i use for loop on given range i.e 100 to 200\n",
    "2. then chech for its even or odd number using modulus operator\n",
    "3. if number is even then print its square\n",
    "\"\"\"\n",
    "\n",
    "print(\"Squares of Even Numbers\")\n",
    "for i in range(100,200):\n",
    "  if i%2==0:\n",
    "    print(i ,' ',i**2)\n",
    "  else:\n",
    "    pass"
   ]
  },
  {
   "cell_type": "markdown",
   "metadata": {
    "id": "KxzcpRdxH6Oc"
   },
   "source": [
    "Exercise 4: Word counter\n",
    "write a program to count the number of words in a given text.\n",
    "example:\n",
    "input_text = \"This is a sample text. This text will be used to demonstrate the word counter.\"\n",
    "Expected output:\n",
    "'This': 2\n",
    "'is': 1\n",
    "'a': 1\n",
    "'sample': 1\n",
    "'text.': 1\n"
   ]
  },
  {
   "cell_type": "code",
   "execution_count": 4,
   "metadata": {
    "colab": {
     "base_uri": "https://localhost:8080/"
    },
    "id": "Yv_sselqI7ap",
    "outputId": "54ab7d0e-9dfa-4d36-f515-ca5054e8bf80"
   },
   "outputs": [
    {
     "name": "stdout",
     "output_type": "stream",
     "text": [
      "Enter a sent :  This is a sample text. This text will be used to demonstrate the word counter\n",
      "This : 2 is : 1 a : 1 sample : 1 text. : 1 This : 2 text : 1 will : 1 be : 1 used : 1 to : 1 demonstrate : 1 the : 1 word : 1 counter : 1 "
     ]
    }
   ],
   "source": [
    "\"\"\"\n",
    "1. First i take input string  from user.\n",
    "2. i use split function and create list of each words.\n",
    "3. By using count function,  counted each word and print it.\n",
    "\"\"\"\n",
    "\n",
    "word=input(\"Enter a sent :  \")\n",
    "for i  in word.split():\n",
    "  print(i,':',word.split().count(i) , end=' ')\n"
   ]
  },
  {
   "cell_type": "markdown",
   "metadata": {
    "id": "eSgjKWAUIAWw"
   },
   "source": [
    "Exercise 5: Check for Palindrome\n",
    "Write a Python function called is_palindrome that takes a string as input and returns True if the string is a palindrome, and False otherwise. A palindrome is a word, phrase, number, or other sequence of characters that reads the same forward and backward, ignoring spaces, punctuation, and capitalization.\n",
    "Example:\n",
    "Input: \"racecar\"\n",
    "Expected Output: True\n"
   ]
  },
  {
   "cell_type": "code",
   "execution_count": 5,
   "metadata": {
    "colab": {
     "base_uri": "https://localhost:8080/"
    },
    "id": "hiFx44FvIUim",
    "outputId": "83f4d8a4-a1e5-49d9-f702-553c9901962b"
   },
   "outputs": [
    {
     "name": "stdout",
     "output_type": "stream",
     "text": [
      "Enter String racecar\n",
      "True\n"
     ]
    }
   ],
   "source": [
    "\n",
    "\"\"\"\n",
    "1. I take input from user and make it lower case because python is case sensitive\n",
    "2. using slice function i revrse the given word\n",
    "3. compare original word with reversed word and check for palindrome\n",
    "\n",
    "\"\"\"\n",
    "word = input(\"Enter String \").lower()\n",
    "if word==word[::-1]:\n",
    "  print(\"True\")\n",
    "else:\n",
    "   print(\"False\")"
   ]
  },
  {
   "cell_type": "code",
   "execution_count": null,
   "metadata": {},
   "outputs": [],
   "source": []
  }
 ],
 "metadata": {
  "colab": {
   "provenance": []
  },
  "kernelspec": {
   "display_name": "Python 3 (ipykernel)",
   "language": "python",
   "name": "python3"
  },
  "language_info": {
   "codemirror_mode": {
    "name": "ipython",
    "version": 3
   },
   "file_extension": ".py",
   "mimetype": "text/x-python",
   "name": "python",
   "nbconvert_exporter": "python",
   "pygments_lexer": "ipython3",
   "version": "3.9.21"
  }
 },
 "nbformat": 4,
 "nbformat_minor": 1
}
