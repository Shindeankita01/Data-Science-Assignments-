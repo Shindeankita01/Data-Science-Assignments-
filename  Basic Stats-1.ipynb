{
 "cells": [
  {
   "cell_type": "code",
   "execution_count": 1,
   "id": "0da33dd0",
   "metadata": {},
   "outputs": [],
   "source": [
    "# imported required library\n",
    "import pandas as pd\n",
    "import numpy as np\n",
    "import matplotlib.pyplot as plt\n",
    "import seaborn as sns\n",
    "from sklearn.preprocessing import StandardScaler, OneHotEncoder\n",
    "plt.rcParams['figure.figsize'] =(10,5)\n",
    "plt.rcParams['figure.dpi'] = 100"
   ]
  },
  {
   "cell_type": "markdown",
   "id": "6f8c350d",
   "metadata": {},
   "source": [
    "# Load the dataset into a data analysis tool or programming environment :"
   ]
  },
  {
   "cell_type": "code",
   "execution_count": 2,
   "id": "dbe7fa16",
   "metadata": {},
   "outputs": [
    {
     "data": {
      "text/html": [
       "<div>\n",
       "<style scoped>\n",
       "    .dataframe tbody tr th:only-of-type {\n",
       "        vertical-align: middle;\n",
       "    }\n",
       "\n",
       "    .dataframe tbody tr th {\n",
       "        vertical-align: top;\n",
       "    }\n",
       "\n",
       "    .dataframe thead th {\n",
       "        text-align: right;\n",
       "    }\n",
       "</style>\n",
       "<table border=\"1\" class=\"dataframe\">\n",
       "  <thead>\n",
       "    <tr style=\"text-align: right;\">\n",
       "      <th></th>\n",
       "      <th>Date</th>\n",
       "      <th>Day</th>\n",
       "      <th>SKU</th>\n",
       "      <th>City</th>\n",
       "      <th>Volume</th>\n",
       "      <th>BU</th>\n",
       "      <th>Brand</th>\n",
       "      <th>Model</th>\n",
       "      <th>Avg Price</th>\n",
       "      <th>Total Sales Value</th>\n",
       "      <th>Discount Rate (%)</th>\n",
       "      <th>Discount Amount</th>\n",
       "      <th>Net Sales Value</th>\n",
       "    </tr>\n",
       "  </thead>\n",
       "  <tbody>\n",
       "    <tr>\n",
       "      <th>0</th>\n",
       "      <td>01-04-2021</td>\n",
       "      <td>Thursday</td>\n",
       "      <td>M01</td>\n",
       "      <td>C</td>\n",
       "      <td>15</td>\n",
       "      <td>Mobiles</td>\n",
       "      <td>RealU</td>\n",
       "      <td>RU-10</td>\n",
       "      <td>12100</td>\n",
       "      <td>181500</td>\n",
       "      <td>11.654820</td>\n",
       "      <td>21153.498820</td>\n",
       "      <td>160346.501180</td>\n",
       "    </tr>\n",
       "    <tr>\n",
       "      <th>1</th>\n",
       "      <td>01-04-2021</td>\n",
       "      <td>Thursday</td>\n",
       "      <td>M02</td>\n",
       "      <td>C</td>\n",
       "      <td>10</td>\n",
       "      <td>Mobiles</td>\n",
       "      <td>RealU</td>\n",
       "      <td>RU-9 Plus</td>\n",
       "      <td>10100</td>\n",
       "      <td>101000</td>\n",
       "      <td>11.560498</td>\n",
       "      <td>11676.102961</td>\n",
       "      <td>89323.897039</td>\n",
       "    </tr>\n",
       "    <tr>\n",
       "      <th>2</th>\n",
       "      <td>01-04-2021</td>\n",
       "      <td>Thursday</td>\n",
       "      <td>M03</td>\n",
       "      <td>C</td>\n",
       "      <td>7</td>\n",
       "      <td>Mobiles</td>\n",
       "      <td>YouM</td>\n",
       "      <td>YM-99</td>\n",
       "      <td>16100</td>\n",
       "      <td>112700</td>\n",
       "      <td>9.456886</td>\n",
       "      <td>10657.910157</td>\n",
       "      <td>102042.089843</td>\n",
       "    </tr>\n",
       "    <tr>\n",
       "      <th>3</th>\n",
       "      <td>01-04-2021</td>\n",
       "      <td>Thursday</td>\n",
       "      <td>M04</td>\n",
       "      <td>C</td>\n",
       "      <td>6</td>\n",
       "      <td>Mobiles</td>\n",
       "      <td>YouM</td>\n",
       "      <td>YM-99 Plus</td>\n",
       "      <td>20100</td>\n",
       "      <td>120600</td>\n",
       "      <td>6.935385</td>\n",
       "      <td>8364.074702</td>\n",
       "      <td>112235.925298</td>\n",
       "    </tr>\n",
       "    <tr>\n",
       "      <th>4</th>\n",
       "      <td>01-04-2021</td>\n",
       "      <td>Thursday</td>\n",
       "      <td>M05</td>\n",
       "      <td>C</td>\n",
       "      <td>3</td>\n",
       "      <td>Mobiles</td>\n",
       "      <td>YouM</td>\n",
       "      <td>YM-98</td>\n",
       "      <td>8100</td>\n",
       "      <td>24300</td>\n",
       "      <td>17.995663</td>\n",
       "      <td>4372.946230</td>\n",
       "      <td>19927.053770</td>\n",
       "    </tr>\n",
       "    <tr>\n",
       "      <th>...</th>\n",
       "      <td>...</td>\n",
       "      <td>...</td>\n",
       "      <td>...</td>\n",
       "      <td>...</td>\n",
       "      <td>...</td>\n",
       "      <td>...</td>\n",
       "      <td>...</td>\n",
       "      <td>...</td>\n",
       "      <td>...</td>\n",
       "      <td>...</td>\n",
       "      <td>...</td>\n",
       "      <td>...</td>\n",
       "      <td>...</td>\n",
       "    </tr>\n",
       "    <tr>\n",
       "      <th>445</th>\n",
       "      <td>15-04-2021</td>\n",
       "      <td>Thursday</td>\n",
       "      <td>L06</td>\n",
       "      <td>C</td>\n",
       "      <td>2</td>\n",
       "      <td>Lifestyle</td>\n",
       "      <td>Jeera</td>\n",
       "      <td>M-Casuals</td>\n",
       "      <td>1300</td>\n",
       "      <td>2600</td>\n",
       "      <td>15.475687</td>\n",
       "      <td>402.367873</td>\n",
       "      <td>2197.632127</td>\n",
       "    </tr>\n",
       "    <tr>\n",
       "      <th>446</th>\n",
       "      <td>15-04-2021</td>\n",
       "      <td>Thursday</td>\n",
       "      <td>L07</td>\n",
       "      <td>C</td>\n",
       "      <td>6</td>\n",
       "      <td>Lifestyle</td>\n",
       "      <td>Viva</td>\n",
       "      <td>W-Western</td>\n",
       "      <td>2600</td>\n",
       "      <td>15600</td>\n",
       "      <td>17.057027</td>\n",
       "      <td>2660.896242</td>\n",
       "      <td>12939.103758</td>\n",
       "    </tr>\n",
       "    <tr>\n",
       "      <th>447</th>\n",
       "      <td>15-04-2021</td>\n",
       "      <td>Thursday</td>\n",
       "      <td>L08</td>\n",
       "      <td>C</td>\n",
       "      <td>2</td>\n",
       "      <td>Lifestyle</td>\n",
       "      <td>Viva</td>\n",
       "      <td>W-Lounge</td>\n",
       "      <td>1600</td>\n",
       "      <td>3200</td>\n",
       "      <td>18.965550</td>\n",
       "      <td>606.897606</td>\n",
       "      <td>2593.102394</td>\n",
       "    </tr>\n",
       "    <tr>\n",
       "      <th>448</th>\n",
       "      <td>15-04-2021</td>\n",
       "      <td>Thursday</td>\n",
       "      <td>L09</td>\n",
       "      <td>C</td>\n",
       "      <td>3</td>\n",
       "      <td>Lifestyle</td>\n",
       "      <td>Jeera</td>\n",
       "      <td>M-Formals</td>\n",
       "      <td>1900</td>\n",
       "      <td>5700</td>\n",
       "      <td>16.793014</td>\n",
       "      <td>957.201826</td>\n",
       "      <td>4742.798174</td>\n",
       "    </tr>\n",
       "    <tr>\n",
       "      <th>449</th>\n",
       "      <td>15-04-2021</td>\n",
       "      <td>Thursday</td>\n",
       "      <td>L10</td>\n",
       "      <td>C</td>\n",
       "      <td>1</td>\n",
       "      <td>Lifestyle</td>\n",
       "      <td>Jeera</td>\n",
       "      <td>M-Shoes</td>\n",
       "      <td>3100</td>\n",
       "      <td>3100</td>\n",
       "      <td>15.333300</td>\n",
       "      <td>475.332295</td>\n",
       "      <td>2624.667705</td>\n",
       "    </tr>\n",
       "  </tbody>\n",
       "</table>\n",
       "<p>450 rows × 13 columns</p>\n",
       "</div>"
      ],
      "text/plain": [
       "           Date       Day  SKU City  Volume         BU  Brand       Model  \\\n",
       "0    01-04-2021  Thursday  M01    C      15    Mobiles  RealU       RU-10   \n",
       "1    01-04-2021  Thursday  M02    C      10    Mobiles  RealU   RU-9 Plus   \n",
       "2    01-04-2021  Thursday  M03    C       7    Mobiles   YouM       YM-99   \n",
       "3    01-04-2021  Thursday  M04    C       6    Mobiles   YouM  YM-99 Plus   \n",
       "4    01-04-2021  Thursday  M05    C       3    Mobiles   YouM      YM-98    \n",
       "..          ...       ...  ...  ...     ...        ...    ...         ...   \n",
       "445  15-04-2021  Thursday  L06    C       2  Lifestyle  Jeera   M-Casuals   \n",
       "446  15-04-2021  Thursday  L07    C       6  Lifestyle   Viva   W-Western   \n",
       "447  15-04-2021  Thursday  L08    C       2  Lifestyle   Viva    W-Lounge   \n",
       "448  15-04-2021  Thursday  L09    C       3  Lifestyle  Jeera   M-Formals   \n",
       "449  15-04-2021  Thursday  L10    C       1  Lifestyle  Jeera     M-Shoes   \n",
       "\n",
       "     Avg Price  Total Sales Value  Discount Rate (%)  Discount Amount  \\\n",
       "0        12100             181500          11.654820     21153.498820   \n",
       "1        10100             101000          11.560498     11676.102961   \n",
       "2        16100             112700           9.456886     10657.910157   \n",
       "3        20100             120600           6.935385      8364.074702   \n",
       "4         8100              24300          17.995663      4372.946230   \n",
       "..         ...                ...                ...              ...   \n",
       "445       1300               2600          15.475687       402.367873   \n",
       "446       2600              15600          17.057027      2660.896242   \n",
       "447       1600               3200          18.965550       606.897606   \n",
       "448       1900               5700          16.793014       957.201826   \n",
       "449       3100               3100          15.333300       475.332295   \n",
       "\n",
       "     Net Sales Value  \n",
       "0      160346.501180  \n",
       "1       89323.897039  \n",
       "2      102042.089843  \n",
       "3      112235.925298  \n",
       "4       19927.053770  \n",
       "..               ...  \n",
       "445      2197.632127  \n",
       "446     12939.103758  \n",
       "447      2593.102394  \n",
       "448      4742.798174  \n",
       "449      2624.667705  \n",
       "\n",
       "[450 rows x 13 columns]"
      ]
     },
     "execution_count": 2,
     "metadata": {},
     "output_type": "execute_result"
    }
   ],
   "source": [
    "data=pd.read_csv(r\"C:\\Users\\Ankita\\Desktop\\Data Science\\Assigment\\Basic stats - 1\\sales_data_with_discounts.csv\");data"
   ]
  },
  {
   "cell_type": "markdown",
   "id": "192f48aa",
   "metadata": {},
   "source": [
    "# Identify numerical columns in the dataset."
   ]
  },
  {
   "cell_type": "code",
   "execution_count": 3,
   "id": "92a4496d",
   "metadata": {},
   "outputs": [
    {
     "name": "stdout",
     "output_type": "stream",
     "text": [
      "Dataset Info:\n",
      "<class 'pandas.core.frame.DataFrame'>\n",
      "RangeIndex: 450 entries, 0 to 449\n",
      "Data columns (total 13 columns):\n",
      " #   Column             Non-Null Count  Dtype  \n",
      "---  ------             --------------  -----  \n",
      " 0   Date               450 non-null    object \n",
      " 1   Day                450 non-null    object \n",
      " 2   SKU                450 non-null    object \n",
      " 3   City               450 non-null    object \n",
      " 4   Volume             450 non-null    int64  \n",
      " 5   BU                 450 non-null    object \n",
      " 6   Brand              450 non-null    object \n",
      " 7   Model              450 non-null    object \n",
      " 8   Avg Price          450 non-null    int64  \n",
      " 9   Total Sales Value  450 non-null    int64  \n",
      " 10  Discount Rate (%)  450 non-null    float64\n",
      " 11  Discount Amount    450 non-null    float64\n",
      " 12  Net Sales Value    450 non-null    float64\n",
      "dtypes: float64(3), int64(3), object(7)\n",
      "memory usage: 45.8+ KB\n"
     ]
    }
   ],
   "source": [
    "print(\"Dataset Info:\")\n",
    "data.info()"
   ]
  },
  {
   "cell_type": "code",
   "execution_count": 4,
   "id": "7eda1ebd",
   "metadata": {},
   "outputs": [
    {
     "data": {
      "text/plain": [
       "Index(['Volume', 'Avg Price', 'Total Sales Value', 'Discount Rate (%)',\n",
       "       'Discount Amount', 'Net Sales Value'],\n",
       "      dtype='object')"
      ]
     },
     "execution_count": 4,
     "metadata": {},
     "output_type": "execute_result"
    }
   ],
   "source": [
    "numerical_cols = data.select_dtypes(include=['int64', 'float64']).columns;numerical_cols "
   ]
  },
  {
   "cell_type": "markdown",
   "id": "d3f01614",
   "metadata": {},
   "source": [
    "* There are six numerical columns identified in the dataset."
   ]
  },
  {
   "cell_type": "markdown",
   "id": "c6e3f836",
   "metadata": {},
   "source": [
    "# Calculate the mean, median, mode, and standard deviation for these columns."
   ]
  },
  {
   "cell_type": "code",
   "execution_count": 5,
   "id": "11ef6ceb",
   "metadata": {},
   "outputs": [
    {
     "data": {
      "text/html": [
       "<div>\n",
       "<style scoped>\n",
       "    .dataframe tbody tr th:only-of-type {\n",
       "        vertical-align: middle;\n",
       "    }\n",
       "\n",
       "    .dataframe tbody tr th {\n",
       "        vertical-align: top;\n",
       "    }\n",
       "\n",
       "    .dataframe thead th {\n",
       "        text-align: right;\n",
       "    }\n",
       "</style>\n",
       "<table border=\"1\" class=\"dataframe\">\n",
       "  <thead>\n",
       "    <tr style=\"text-align: right;\">\n",
       "      <th></th>\n",
       "      <th>Volume</th>\n",
       "      <th>Avg Price</th>\n",
       "      <th>Total Sales Value</th>\n",
       "      <th>Discount Rate (%)</th>\n",
       "      <th>Discount Amount</th>\n",
       "      <th>Net Sales Value</th>\n",
       "    </tr>\n",
       "  </thead>\n",
       "  <tbody>\n",
       "    <tr>\n",
       "      <th>count</th>\n",
       "      <td>450.000000</td>\n",
       "      <td>450.000000</td>\n",
       "      <td>450.000000</td>\n",
       "      <td>450.000000</td>\n",
       "      <td>450.000000</td>\n",
       "      <td>450.000000</td>\n",
       "    </tr>\n",
       "    <tr>\n",
       "      <th>mean</th>\n",
       "      <td>5.066667</td>\n",
       "      <td>10453.433333</td>\n",
       "      <td>33812.835556</td>\n",
       "      <td>15.155242</td>\n",
       "      <td>3346.499424</td>\n",
       "      <td>30466.336131</td>\n",
       "    </tr>\n",
       "    <tr>\n",
       "      <th>std</th>\n",
       "      <td>4.231602</td>\n",
       "      <td>18079.904840</td>\n",
       "      <td>50535.074173</td>\n",
       "      <td>4.220602</td>\n",
       "      <td>4509.902963</td>\n",
       "      <td>46358.656624</td>\n",
       "    </tr>\n",
       "    <tr>\n",
       "      <th>min</th>\n",
       "      <td>1.000000</td>\n",
       "      <td>290.000000</td>\n",
       "      <td>400.000000</td>\n",
       "      <td>5.007822</td>\n",
       "      <td>69.177942</td>\n",
       "      <td>326.974801</td>\n",
       "    </tr>\n",
       "    <tr>\n",
       "      <th>25%</th>\n",
       "      <td>3.000000</td>\n",
       "      <td>465.000000</td>\n",
       "      <td>2700.000000</td>\n",
       "      <td>13.965063</td>\n",
       "      <td>460.459304</td>\n",
       "      <td>2202.208645</td>\n",
       "    </tr>\n",
       "    <tr>\n",
       "      <th>50%</th>\n",
       "      <td>4.000000</td>\n",
       "      <td>1450.000000</td>\n",
       "      <td>5700.000000</td>\n",
       "      <td>16.577766</td>\n",
       "      <td>988.933733</td>\n",
       "      <td>4677.788059</td>\n",
       "    </tr>\n",
       "    <tr>\n",
       "      <th>75%</th>\n",
       "      <td>6.000000</td>\n",
       "      <td>10100.000000</td>\n",
       "      <td>53200.000000</td>\n",
       "      <td>18.114718</td>\n",
       "      <td>5316.495427</td>\n",
       "      <td>47847.912852</td>\n",
       "    </tr>\n",
       "    <tr>\n",
       "      <th>max</th>\n",
       "      <td>31.000000</td>\n",
       "      <td>60100.000000</td>\n",
       "      <td>196400.000000</td>\n",
       "      <td>19.992407</td>\n",
       "      <td>25738.022194</td>\n",
       "      <td>179507.479049</td>\n",
       "    </tr>\n",
       "  </tbody>\n",
       "</table>\n",
       "</div>"
      ],
      "text/plain": [
       "           Volume     Avg Price  Total Sales Value  Discount Rate (%)  \\\n",
       "count  450.000000    450.000000         450.000000         450.000000   \n",
       "mean     5.066667  10453.433333       33812.835556          15.155242   \n",
       "std      4.231602  18079.904840       50535.074173           4.220602   \n",
       "min      1.000000    290.000000         400.000000           5.007822   \n",
       "25%      3.000000    465.000000        2700.000000          13.965063   \n",
       "50%      4.000000   1450.000000        5700.000000          16.577766   \n",
       "75%      6.000000  10100.000000       53200.000000          18.114718   \n",
       "max     31.000000  60100.000000      196400.000000          19.992407   \n",
       "\n",
       "       Discount Amount  Net Sales Value  \n",
       "count       450.000000       450.000000  \n",
       "mean       3346.499424     30466.336131  \n",
       "std        4509.902963     46358.656624  \n",
       "min          69.177942       326.974801  \n",
       "25%         460.459304      2202.208645  \n",
       "50%         988.933733      4677.788059  \n",
       "75%        5316.495427     47847.912852  \n",
       "max       25738.022194    179507.479049  "
      ]
     },
     "execution_count": 5,
     "metadata": {},
     "output_type": "execute_result"
    }
   ],
   "source": [
    "data.describe()"
   ]
  },
  {
   "cell_type": "markdown",
   "id": "7e43a51f",
   "metadata": {},
   "source": [
    "# interpretation of these statistics"
   ]
  },
  {
   "cell_type": "markdown",
   "id": "4077d14f",
   "metadata": {},
   "source": [
    "# Data Visualization"
   ]
  },
  {
   "cell_type": "markdown",
   "id": "bf485410",
   "metadata": {},
   "source": [
    "# Histogram"
   ]
  },
  {
   "cell_type": "code",
   "execution_count": 6,
   "id": "50f7da24",
   "metadata": {},
   "outputs": [
    {
     "data": {
      "image/png": "[encoded data removed]",
      "text/plain": [
       "<Figure size 1000x500 with 1 Axes>"
      ]
     },
     "metadata": {},
     "output_type": "display_data"
    }
   ],
   "source": [
    "sns.histplot(data['Volume'], bins=30, kde=True, edgecolor='black')\n",
    "plt.title('Histogram for Volume')\n",
    "plt.xlabel('Volume')\n",
    "plt.ylabel('Frequency')\n",
    "plt.show()"
   ]
  },
  {
   "cell_type": "markdown",
   "id": "9ba2db93",
   "metadata": {},
   "source": [
    "* In above plot, we can see data is right skew and most data lies in between range 1 to 10"
   ]
  },
  {
   "cell_type": "code",
   "execution_count": 7,
   "id": "1a639618",
   "metadata": {},
   "outputs": [
    {
     "data": {
      "image/png": "[encoded data removed]",
      "text/plain": [
       "<Figure size 1000x500 with 1 Axes>"
      ]
     },
     "metadata": {},
     "output_type": "display_data"
    }
   ],
   "source": [
    "sns.histplot(data['Avg Price'], bins=30, kde=True, edgecolor='black')\n",
    "plt.title('Histogram for Avg Price')\n",
    "plt.xlabel('Avg Price')\n",
    "plt.ylabel('Frequency')\n",
    "plt.show()"
   ]
  },
  {
   "cell_type": "markdown",
   "id": "d8c3ebca",
   "metadata": {},
   "source": [
    "**In the above plot, we can see data is highly spread with a right-skewed, indicating outliers in the higher Avg Price range"
   ]
  },
  {
   "cell_type": "code",
   "execution_count": 8,
   "id": "920ebf7d",
   "metadata": {},
   "outputs": [
    {
     "data": {
      "image/png": "[encoded data removed]",
      "text/plain": [
       "<Figure size 1000x500 with 1 Axes>"
      ]
     },
     "metadata": {},
     "output_type": "display_data"
    }
   ],
   "source": [
    "sns.histplot(data['Total Sales Value'], bins=30, kde=True, edgecolor='black')\n",
    "plt.title('Histogram for Total Sales Value')\n",
    "plt.xlabel('Total Sales Value')\n",
    "plt.ylabel('Frequency')\n",
    "plt.show()"
   ]
  },
  {
   "cell_type": "markdown",
   "id": "dadffee1",
   "metadata": {},
   "source": [
    "* In the above plot, we can see data is right-skewed, with most values in the range of 0 to 25,000, and indicating outliers in the higher Total Sales Value."
   ]
  },
  {
   "cell_type": "code",
   "execution_count": 9,
   "id": "d1bba6f3",
   "metadata": {},
   "outputs": [
    {
     "data": {
      "image/png": "[encoded data removed]",
      "text/plain": [
       "<Figure size 1000x500 with 1 Axes>"
      ]
     },
     "metadata": {},
     "output_type": "display_data"
    }
   ],
   "source": [
    "sns.histplot(data['Discount Rate (%)'], bins=30, kde=True, edgecolor='black')\n",
    "plt.title('Histogram for Discount Rate (%)')\n",
    "plt.xlabel('Discount Rate (%)')\n",
    "plt.ylabel('Frequency')\n",
    "plt.show()"
   ]
  },
  {
   "cell_type": "markdown",
   "id": "ca951d35",
   "metadata": {},
   "source": [
    "* In above plot, we can see data is left-skewed, most data lies in between range 15 to 20. outlier may present in lower extreme"
   ]
  },
  {
   "cell_type": "code",
   "execution_count": 10,
   "id": "f809a28b",
   "metadata": {},
   "outputs": [
    {
     "data": {
      "image/png": "[encoded data removed]",
      "text/plain": [
       "<Figure size 1000x500 with 1 Axes>"
      ]
     },
     "metadata": {},
     "output_type": "display_data"
    }
   ],
   "source": [
    "sns.histplot(data['Discount Amount'], bins=30, kde=True, edgecolor='black')\n",
    "plt.title('Histogram for Discount Amount')\n",
    "plt.xlabel('Discount Amount')\n",
    "plt.ylabel('Frequency')\n",
    "plt.show()"
   ]
  },
  {
   "cell_type": "markdown",
   "id": "16245606",
   "metadata": {},
   "source": [
    "* In above plot,we can see data is right skew and major part of data lies in between 0 to 10000. Outlier are may present in lower extreme"
   ]
  },
  {
   "cell_type": "code",
   "execution_count": 11,
   "id": "f1c7af3a",
   "metadata": {},
   "outputs": [
    {
     "data": {
      "image/png": "[encoded data removed]",
      "text/plain": [
       "<Figure size 1000x500 with 1 Axes>"
      ]
     },
     "metadata": {},
     "output_type": "display_data"
    }
   ],
   "source": [
    "sns.histplot(data['Net Sales Value'], bins=30, kde=True, edgecolor='black')\n",
    "plt.title('Histogram for Net Sales Value')\n",
    "plt.xlabel('Net Sales Value')\n",
    "plt.ylabel('Frequency')\n",
    "plt.show()"
   ]
  },
  {
   "cell_type": "markdown",
   "id": "4f190fb5",
   "metadata": {},
   "source": [
    "* In above plot we can see data is right skew and outlier may present in uper extreme region."
   ]
  },
  {
   "cell_type": "markdown",
   "id": "a8e82749",
   "metadata": {},
   "source": [
    "# Boxplot"
   ]
  },
  {
   "cell_type": "code",
   "execution_count": 12,
   "id": "9fba2972",
   "metadata": {},
   "outputs": [
    {
     "data": {
      "image/png": "[encoded data removed]",
      "text/plain": [
       "<Figure size 1000x500 with 1 Axes>"
      ]
     },
     "metadata": {},
     "output_type": "display_data"
    }
   ],
   "source": [
    "sns.boxplot(x=data[\"Volume\"])\n",
    "plt.show()"
   ]
  },
  {
   "cell_type": "markdown",
   "id": "ce3169bc",
   "metadata": {},
   "source": [
    "* In the above boxplot, outliers are present in the upper extreme region, and the data is right-skewed as the upper quartile is larger than the lower quartile."
   ]
  },
  {
   "cell_type": "code",
   "execution_count": 13,
   "id": "5b1113da",
   "metadata": {},
   "outputs": [
    {
     "data": {
      "image/png": "[encoded data removed]",
      "text/plain": [
       "<Figure size 1000x500 with 1 Axes>"
      ]
     },
     "metadata": {},
     "output_type": "display_data"
    }
   ],
   "source": [
    "sns.boxplot(x=data[\"Avg Price\"])\n",
    "plt.show()"
   ]
  },
  {
   "cell_type": "markdown",
   "id": "cd7472c8",
   "metadata": {},
   "source": [
    "* In the above boxplot we can see outlier are present in upper extreme region and its right skew because upper quartile is larger than lower quartile.\n",
    "* Four outlier are present"
   ]
  },
  {
   "cell_type": "code",
   "execution_count": 14,
   "id": "9c4252a9",
   "metadata": {},
   "outputs": [
    {
     "data": {
      "image/png": "[encoded data removed]",
      "text/plain": [
       "<Figure size 1000x500 with 1 Axes>"
      ]
     },
     "metadata": {},
     "output_type": "display_data"
    }
   ],
   "source": [
    "sns.boxplot(x=data[\"Total Sales Value\"])\n",
    "plt.show()"
   ]
  },
  {
   "cell_type": "markdown",
   "id": "7500ee60",
   "metadata": {},
   "source": [
    "* In the above boxplot we can see outlier are present in upper extreme region and its right skew because upper quartile is larger than lower quartile\n",
    "* outlier are present at above 125000 sales value"
   ]
  },
  {
   "cell_type": "code",
   "execution_count": 15,
   "id": "a77780a9",
   "metadata": {},
   "outputs": [
    {
     "data": {
      "image/png": "[encoded data removed]",
      "text/plain": [
       "<Figure size 1000x500 with 1 Axes>"
      ]
     },
     "metadata": {},
     "output_type": "display_data"
    }
   ],
   "source": [
    "sns.boxplot(x=data[\"Discount Rate (%)\"])\n",
    "plt.show()"
   ]
  },
  {
   "cell_type": "markdown",
   "id": "ab79239c",
   "metadata": {},
   "source": [
    "* In the above boxplot we can see outlier are present in lower extreme region, but the data is not strongly left-skewed as the upper quartile is larger than the lower quartile."
   ]
  },
  {
   "cell_type": "code",
   "execution_count": 16,
   "id": "11b0a9cf",
   "metadata": {},
   "outputs": [
    {
     "data": {
      "image/png": "[encoded data removed]",
      "text/plain": [
       "<Figure size 1000x500 with 1 Axes>"
      ]
     },
     "metadata": {},
     "output_type": "display_data"
    }
   ],
   "source": [
    "sns.boxplot(x=data[\"Discount Amount\"])\n",
    "plt.show()"
   ]
  },
  {
   "cell_type": "markdown",
   "id": "e2cdbd81",
   "metadata": {},
   "source": [
    "* In the above boxplot we can see outlier are present in upper extreme region and its right skew because upper quartile is larger than lower quartile\n",
    "* Outliers are Present at above 12000 dicount amount"
   ]
  },
  {
   "cell_type": "code",
   "execution_count": 17,
   "id": "492b5de0",
   "metadata": {},
   "outputs": [
    {
     "data": {
      "image/png": "[encoded data removed]",
      "text/plain": [
       "<Figure size 1000x500 with 1 Axes>"
      ]
     },
     "metadata": {},
     "output_type": "display_data"
    }
   ],
   "source": [
    "sns.boxplot(x=data[\"Net Sales Value\"])\n",
    "plt.show()"
   ]
  },
  {
   "cell_type": "markdown",
   "id": "2d546679",
   "metadata": {},
   "source": [
    "* In the above boxplot we can see outlier are present in upper extreme region and its right skew because upper quartile is larger than lower quartile"
   ]
  },
  {
   "cell_type": "markdown",
   "id": "cf39bb06",
   "metadata": {},
   "source": [
    "* In the above graph the whole circles represents the extreme values (Outlier).\n",
    "  * Extreme values can be very high or can be very low.\n",
    "  * Extreme values are located in above the upper extreme and also present in below the lower extreme."
   ]
  },
  {
   "cell_type": "code",
   "execution_count": 18,
   "id": "e1fc9f36",
   "metadata": {},
   "outputs": [],
   "source": [
    "def capping(data,columns):\n",
    "    for col in columns:\n",
    "        q1=data[col].quantile(0.25)\n",
    "        q3=data[col].quantile(0.75)\n",
    "        iqr=q3-q1\n",
    "        print(f\"*IQR value of {col}:\",iqr)\n",
    "        print('')"
   ]
  },
  {
   "cell_type": "code",
   "execution_count": 19,
   "id": "f578c0d8",
   "metadata": {},
   "outputs": [
    {
     "data": {
      "text/plain": [
       "Index(['Date', 'Day', 'SKU', 'City', 'Volume', 'BU', 'Brand', 'Model',\n",
       "       'Avg Price', 'Total Sales Value', 'Discount Rate (%)',\n",
       "       'Discount Amount', 'Net Sales Value'],\n",
       "      dtype='object')"
      ]
     },
     "execution_count": 19,
     "metadata": {},
     "output_type": "execute_result"
    }
   ],
   "source": [
    "data.columns"
   ]
  },
  {
   "cell_type": "code",
   "execution_count": 20,
   "id": "0f1d02ff",
   "metadata": {},
   "outputs": [
    {
     "name": "stdout",
     "output_type": "stream",
     "text": [
      "*IQR value of Volume: 3.0\n",
      "\n",
      "*IQR value of Avg Price: 9635.0\n",
      "\n",
      "*IQR value of Total Sales Value: 50500.0\n",
      "\n",
      "*IQR value of Discount Rate (%): 4.149655934050962\n",
      "\n",
      "*IQR value of Discount Amount: 4856.03612280112\n",
      "\n",
      "*IQR value of Net Sales Value: 45645.70420627015\n",
      "\n"
     ]
    }
   ],
   "source": [
    "capping(data,data.drop(columns=['Date','Day','SKU','City','BU','Brand','Model',]).columns)"
   ]
  },
  {
   "cell_type": "markdown",
   "id": "98b3c7fa",
   "metadata": {},
   "source": [
    "# Bar Chart Analysis for Categorical Column"
   ]
  },
  {
   "cell_type": "code",
   "execution_count": 21,
   "id": "768beb80",
   "metadata": {},
   "outputs": [
    {
     "data": {
      "text/plain": [
       "Index(['Date', 'Day', 'SKU', 'City', 'BU', 'Brand', 'Model'], dtype='object')"
      ]
     },
     "execution_count": 21,
     "metadata": {},
     "output_type": "execute_result"
    }
   ],
   "source": [
    "Categorical_cols = data.select_dtypes(include=['object']).columns;Categorical_cols "
   ]
  },
  {
   "cell_type": "code",
   "execution_count": 22,
   "id": "70470bda",
   "metadata": {},
   "outputs": [
    {
     "data": {
      "text/plain": [
       "Day\n",
       "Thursday     90\n",
       "Friday       60\n",
       "Saturday     60\n",
       "Sunday       60\n",
       "Monday       60\n",
       "Tuesday      60\n",
       "Wednesday    60\n",
       "Name: count, dtype: int64"
      ]
     },
     "execution_count": 22,
     "metadata": {},
     "output_type": "execute_result"
    }
   ],
   "source": [
    "x=data[\"Day\"].value_counts();x"
   ]
  },
  {
   "cell_type": "code",
   "execution_count": 23,
   "id": "c97e75ce",
   "metadata": {
    "scrolled": true
   },
   "outputs": [
    {
     "data": {
      "text/plain": [
       "<AxesSubplot:xlabel='Day'>"
      ]
     },
     "execution_count": 23,
     "metadata": {},
     "output_type": "execute_result"
    },
    {
     "data": {
      "image/png": "[encoded data removed]",
      "text/plain": [
       "<Figure size 1000x500 with 1 Axes>"
      ]
     },
     "metadata": {},
     "output_type": "display_data"
    }
   ],
   "source": [
    "sns.barplot(x=data[\"Day\"].value_counts().index, y=data[\"Day\"].value_counts().values)"
   ]
  },
  {
   "cell_type": "markdown",
   "id": "58858eba",
   "metadata": {},
   "source": [
    "* In the above Barplot we can see the dataset contains Thursday having the highest count indicating that sales.The remaining days have relatively equal sales."
   ]
  },
  {
   "cell_type": "code",
   "execution_count": 24,
   "id": "58b18582",
   "metadata": {},
   "outputs": [
    {
     "data": {
      "text/plain": [
       "SKU\n",
       "M01    15\n",
       "M02    15\n",
       "L09    15\n",
       "L08    15\n",
       "L07    15\n",
       "L06    15\n",
       "L05    15\n",
       "L04    15\n",
       "L03    15\n",
       "L02    15\n",
       "L01    15\n",
       "F10    15\n",
       "F09    15\n",
       "F08    15\n",
       "F07    15\n",
       "F06    15\n",
       "F05    15\n",
       "F04    15\n",
       "F03    15\n",
       "F02    15\n",
       "F01    15\n",
       "M10    15\n",
       "M09    15\n",
       "M08    15\n",
       "M07    15\n",
       "M06    15\n",
       "M05    15\n",
       "M04    15\n",
       "M03    15\n",
       "L10    15\n",
       "Name: count, dtype: int64"
      ]
     },
     "execution_count": 24,
     "metadata": {},
     "output_type": "execute_result"
    }
   ],
   "source": [
    "x=data[\"SKU\"].value_counts();x"
   ]
  },
  {
   "cell_type": "code",
   "execution_count": 25,
   "id": "6c0775f5",
   "metadata": {},
   "outputs": [
    {
     "data": {
      "text/plain": [
       "<AxesSubplot:xlabel='SKU'>"
      ]
     },
     "execution_count": 25,
     "metadata": {},
     "output_type": "execute_result"
    },
    {
     "data": {
      "image/png": "[encoded data removed]",
      "text/plain": [
       "<Figure size 1000x500 with 1 Axes>"
      ]
     },
     "metadata": {},
     "output_type": "display_data"
    }
   ],
   "source": [
    "sns.barplot(x=data[\"SKU\"].value_counts().index, y=data[\"SKU\"].value_counts().values)"
   ]
  },
  {
   "cell_type": "code",
   "execution_count": 26,
   "id": "ae7f5c01",
   "metadata": {},
   "outputs": [
    {
     "data": {
      "text/plain": [
       "City\n",
       "C    450\n",
       "Name: count, dtype: int64"
      ]
     },
     "execution_count": 26,
     "metadata": {},
     "output_type": "execute_result"
    }
   ],
   "source": [
    "x=data[\"City\"].value_counts();x"
   ]
  },
  {
   "cell_type": "code",
   "execution_count": 27,
   "id": "b4c0ec0d",
   "metadata": {},
   "outputs": [
    {
     "data": {
      "text/plain": [
       "<AxesSubplot:xlabel='City'>"
      ]
     },
     "execution_count": 27,
     "metadata": {},
     "output_type": "execute_result"
    },
    {
     "data": {
      "image/png": "[encoded data removed]",
      "text/plain": [
       "<Figure size 1000x500 with 1 Axes>"
      ]
     },
     "metadata": {},
     "output_type": "display_data"
    }
   ],
   "source": [
    "sns.barplot(x=data[\"City\"].value_counts().index, y=data[\"City\"].value_counts().values)"
   ]
  },
  {
   "cell_type": "markdown",
   "id": "97ec0909",
   "metadata": {},
   "source": [
    "* In the above Barplot we can see the dataset contains sales data for only one city"
   ]
  },
  {
   "cell_type": "code",
   "execution_count": 28,
   "id": "4b92a747",
   "metadata": {},
   "outputs": [
    {
     "data": {
      "text/plain": [
       "BU\n",
       "Mobiles      150\n",
       "FMCG         150\n",
       "Lifestyle    150\n",
       "Name: count, dtype: int64"
      ]
     },
     "execution_count": 28,
     "metadata": {},
     "output_type": "execute_result"
    }
   ],
   "source": [
    "x=data[\"BU\"].value_counts();x"
   ]
  },
  {
   "cell_type": "code",
   "execution_count": 29,
   "id": "af1a417a",
   "metadata": {},
   "outputs": [
    {
     "data": {
      "text/plain": [
       "<AxesSubplot:xlabel='BU'>"
      ]
     },
     "execution_count": 29,
     "metadata": {},
     "output_type": "execute_result"
    },
    {
     "data": {
      "image/png": "[encoded data removed]",
      "text/plain": [
       "<Figure size 1000x500 with 1 Axes>"
      ]
     },
     "metadata": {},
     "output_type": "display_data"
    }
   ],
   "source": [
    "sns.barplot(x=data[\"BU\"].value_counts().index, y=data[\"BU\"].value_counts().values)"
   ]
  },
  {
   "cell_type": "markdown",
   "id": "28fb91a7",
   "metadata": {},
   "source": [
    "* In the above Barplot we can see sales are fairly balanced among Mobiles, FMCG, and Lifestyle categories"
   ]
  },
  {
   "cell_type": "code",
   "execution_count": 30,
   "id": "eafb417e",
   "metadata": {},
   "outputs": [
    {
     "data": {
      "text/plain": [
       "Brand\n",
       "Jeera      90\n",
       "Gear       60\n",
       "Viva       60\n",
       "RealU      45\n",
       "YouM       45\n",
       "Babaji     45\n",
       "Vedic      45\n",
       "Sumsang    30\n",
       "Orange     30\n",
       "Name: count, dtype: int64"
      ]
     },
     "execution_count": 30,
     "metadata": {},
     "output_type": "execute_result"
    }
   ],
   "source": [
    "x=data[\"Brand\"].value_counts();x"
   ]
  },
  {
   "cell_type": "code",
   "execution_count": 31,
   "id": "60d5f366",
   "metadata": {},
   "outputs": [
    {
     "data": {
      "text/plain": [
       "<AxesSubplot:xlabel='Brand'>"
      ]
     },
     "execution_count": 31,
     "metadata": {},
     "output_type": "execute_result"
    },
    {
     "data": {
      "image/png": "[encoded data removed]",
      "text/plain": [
       "<Figure size 1000x500 with 1 Axes>"
      ]
     },
     "metadata": {},
     "output_type": "display_data"
    }
   ],
   "source": [
    "sns.barplot(x=data[\"Brand\"].value_counts().index, y=data[\"Brand\"].value_counts().values)"
   ]
  },
  {
   "cell_type": "code",
   "execution_count": null,
   "id": "97f5ce14",
   "metadata": {},
   "outputs": [],
   "source": []
  },
  {
   "cell_type": "code",
   "execution_count": 32,
   "id": "4d0524ee",
   "metadata": {},
   "outputs": [
    {
     "data": {
      "text/plain": [
       "Model\n",
       "RU-10             15\n",
       "RU-9 Plus         15\n",
       "M-Formals         15\n",
       "W-Lounge          15\n",
       "W-Western         15\n",
       "M-Casuals         15\n",
       "M-Jeans           15\n",
       "W-Inners          15\n",
       "W-Casuals         15\n",
       "M- Inners         15\n",
       "M- T Shirts       15\n",
       "Gear BB Cream     15\n",
       "Gear Shampoo      15\n",
       "Gear Cream        15\n",
       "Gear Oil          15\n",
       "Vedic Oil         15\n",
       "Babaji Cream      15\n",
       "Babaji Shampoo    15\n",
       "Vedic Shampoo     15\n",
       "Vedic Cream       15\n",
       "Babaji Oil        15\n",
       "O-11              15\n",
       "O-10              15\n",
       "S-21              15\n",
       "S-20              15\n",
       "RU-9              15\n",
       "YM-98             15\n",
       "YM-99 Plus        15\n",
       "YM-99             15\n",
       "M-Shoes           15\n",
       "Name: count, dtype: int64"
      ]
     },
     "execution_count": 32,
     "metadata": {},
     "output_type": "execute_result"
    }
   ],
   "source": [
    "x=data[\"Model\"].value_counts();x"
   ]
  },
  {
   "cell_type": "code",
   "execution_count": 33,
   "id": "e9401232",
   "metadata": {},
   "outputs": [
    {
     "data": {
      "text/plain": [
       "<AxesSubplot:xlabel='Model'>"
      ]
     },
     "execution_count": 33,
     "metadata": {},
     "output_type": "execute_result"
    },
    {
     "data": {
      "image/png": "[encoded data removed]",
      "text/plain": [
       "<Figure size 1000x500 with 1 Axes>"
      ]
     },
     "metadata": {},
     "output_type": "display_data"
    }
   ],
   "source": [
    "sns.barplot(x=data[\"Model\"].value_counts().index, y=data[\"Model\"].value_counts().values)"
   ]
  },
  {
   "cell_type": "code",
   "execution_count": null,
   "id": "1c751c07",
   "metadata": {},
   "outputs": [],
   "source": []
  },
  {
   "cell_type": "markdown",
   "id": "9e5b0c75",
   "metadata": {},
   "source": [
    "\n",
    "# Standardization of Numerical Variables"
   ]
  },
  {
   "cell_type": "markdown",
   "id": "adfc082e",
   "metadata": {},
   "source": [
    "* standard scalar is widely used Standardization technique\n",
    "* its helps to covert numerical data into in range of -3 to 3 without loosing its orignial essence.\n",
    "* its also reduced calculation timing while modeling."
   ]
  },
  {
   "cell_type": "code",
   "execution_count": 38,
   "id": "c0455a1b",
   "metadata": {},
   "outputs": [
    {
     "name": "stdout",
     "output_type": "stream",
     "text": [
      "<class 'pandas.core.frame.DataFrame'>\n",
      "RangeIndex: 450 entries, 0 to 449\n",
      "Data columns (total 13 columns):\n",
      " #   Column             Non-Null Count  Dtype  \n",
      "---  ------             --------------  -----  \n",
      " 0   Date               450 non-null    object \n",
      " 1   Day                450 non-null    object \n",
      " 2   SKU                450 non-null    object \n",
      " 3   City               450 non-null    object \n",
      " 4   Volume             450 non-null    int64  \n",
      " 5   BU                 450 non-null    object \n",
      " 6   Brand              450 non-null    object \n",
      " 7   Model              450 non-null    object \n",
      " 8   Avg Price          450 non-null    int64  \n",
      " 9   Total Sales Value  450 non-null    int64  \n",
      " 10  Discount Rate (%)  450 non-null    float64\n",
      " 11  Discount Amount    450 non-null    float64\n",
      " 12  Net Sales Value    450 non-null    float64\n",
      "dtypes: float64(3), int64(3), object(7)\n",
      "memory usage: 45.8+ KB\n"
     ]
    }
   ],
   "source": [
    "data.info()"
   ]
  },
  {
   "cell_type": "code",
   "execution_count": 47,
   "id": "940c049b",
   "metadata": {},
   "outputs": [],
   "source": [
    "data=data.copy()\n",
    "datanumerical=data.select_dtypes(include=np.number)\n",
    "def standardize(column):\n",
    "  return (column - column.mean())/column.std()"
   ]
  },
  {
   "cell_type": "code",
   "execution_count": 48,
   "id": "e3e7e3d4",
   "metadata": {},
   "outputs": [
    {
     "name": "stdout",
     "output_type": "stream",
     "text": [
      "Data set before Standardization\n"
     ]
    },
    {
     "data": {
      "text/html": [
       "<div>\n",
       "<style scoped>\n",
       "    .dataframe tbody tr th:only-of-type {\n",
       "        vertical-align: middle;\n",
       "    }\n",
       "\n",
       "    .dataframe tbody tr th {\n",
       "        vertical-align: top;\n",
       "    }\n",
       "\n",
       "    .dataframe thead th {\n",
       "        text-align: right;\n",
       "    }\n",
       "</style>\n",
       "<table border=\"1\" class=\"dataframe\">\n",
       "  <thead>\n",
       "    <tr style=\"text-align: right;\">\n",
       "      <th></th>\n",
       "      <th>Volume</th>\n",
       "      <th>Avg Price</th>\n",
       "      <th>Total Sales Value</th>\n",
       "      <th>Discount Rate (%)</th>\n",
       "      <th>Discount Amount</th>\n",
       "      <th>Net Sales Value</th>\n",
       "    </tr>\n",
       "  </thead>\n",
       "  <tbody>\n",
       "    <tr>\n",
       "      <th>0</th>\n",
       "      <td>15</td>\n",
       "      <td>12100</td>\n",
       "      <td>181500</td>\n",
       "      <td>11.654820</td>\n",
       "      <td>21153.498820</td>\n",
       "      <td>160346.501180</td>\n",
       "    </tr>\n",
       "    <tr>\n",
       "      <th>1</th>\n",
       "      <td>10</td>\n",
       "      <td>10100</td>\n",
       "      <td>101000</td>\n",
       "      <td>11.560498</td>\n",
       "      <td>11676.102961</td>\n",
       "      <td>89323.897039</td>\n",
       "    </tr>\n",
       "    <tr>\n",
       "      <th>2</th>\n",
       "      <td>7</td>\n",
       "      <td>16100</td>\n",
       "      <td>112700</td>\n",
       "      <td>9.456886</td>\n",
       "      <td>10657.910157</td>\n",
       "      <td>102042.089843</td>\n",
       "    </tr>\n",
       "    <tr>\n",
       "      <th>3</th>\n",
       "      <td>6</td>\n",
       "      <td>20100</td>\n",
       "      <td>120600</td>\n",
       "      <td>6.935385</td>\n",
       "      <td>8364.074702</td>\n",
       "      <td>112235.925298</td>\n",
       "    </tr>\n",
       "    <tr>\n",
       "      <th>4</th>\n",
       "      <td>3</td>\n",
       "      <td>8100</td>\n",
       "      <td>24300</td>\n",
       "      <td>17.995663</td>\n",
       "      <td>4372.946230</td>\n",
       "      <td>19927.053770</td>\n",
       "    </tr>\n",
       "    <tr>\n",
       "      <th>...</th>\n",
       "      <td>...</td>\n",
       "      <td>...</td>\n",
       "      <td>...</td>\n",
       "      <td>...</td>\n",
       "      <td>...</td>\n",
       "      <td>...</td>\n",
       "    </tr>\n",
       "    <tr>\n",
       "      <th>445</th>\n",
       "      <td>2</td>\n",
       "      <td>1300</td>\n",
       "      <td>2600</td>\n",
       "      <td>15.475687</td>\n",
       "      <td>402.367873</td>\n",
       "      <td>2197.632127</td>\n",
       "    </tr>\n",
       "    <tr>\n",
       "      <th>446</th>\n",
       "      <td>6</td>\n",
       "      <td>2600</td>\n",
       "      <td>15600</td>\n",
       "      <td>17.057027</td>\n",
       "      <td>2660.896242</td>\n",
       "      <td>12939.103758</td>\n",
       "    </tr>\n",
       "    <tr>\n",
       "      <th>447</th>\n",
       "      <td>2</td>\n",
       "      <td>1600</td>\n",
       "      <td>3200</td>\n",
       "      <td>18.965550</td>\n",
       "      <td>606.897606</td>\n",
       "      <td>2593.102394</td>\n",
       "    </tr>\n",
       "    <tr>\n",
       "      <th>448</th>\n",
       "      <td>3</td>\n",
       "      <td>1900</td>\n",
       "      <td>5700</td>\n",
       "      <td>16.793014</td>\n",
       "      <td>957.201826</td>\n",
       "      <td>4742.798174</td>\n",
       "    </tr>\n",
       "    <tr>\n",
       "      <th>449</th>\n",
       "      <td>1</td>\n",
       "      <td>3100</td>\n",
       "      <td>3100</td>\n",
       "      <td>15.333300</td>\n",
       "      <td>475.332295</td>\n",
       "      <td>2624.667705</td>\n",
       "    </tr>\n",
       "  </tbody>\n",
       "</table>\n",
       "<p>450 rows × 6 columns</p>\n",
       "</div>"
      ],
      "text/plain": [
       "     Volume  Avg Price  Total Sales Value  Discount Rate (%)  Discount Amount  \\\n",
       "0        15      12100             181500          11.654820     21153.498820   \n",
       "1        10      10100             101000          11.560498     11676.102961   \n",
       "2         7      16100             112700           9.456886     10657.910157   \n",
       "3         6      20100             120600           6.935385      8364.074702   \n",
       "4         3       8100              24300          17.995663      4372.946230   \n",
       "..      ...        ...                ...                ...              ...   \n",
       "445       2       1300               2600          15.475687       402.367873   \n",
       "446       6       2600              15600          17.057027      2660.896242   \n",
       "447       2       1600               3200          18.965550       606.897606   \n",
       "448       3       1900               5700          16.793014       957.201826   \n",
       "449       1       3100               3100          15.333300       475.332295   \n",
       "\n",
       "     Net Sales Value  \n",
       "0      160346.501180  \n",
       "1       89323.897039  \n",
       "2      102042.089843  \n",
       "3      112235.925298  \n",
       "4       19927.053770  \n",
       "..               ...  \n",
       "445      2197.632127  \n",
       "446     12939.103758  \n",
       "447      2593.102394  \n",
       "448      4742.798174  \n",
       "449      2624.667705  \n",
       "\n",
       "[450 rows x 6 columns]"
      ]
     },
     "execution_count": 48,
     "metadata": {},
     "output_type": "execute_result"
    }
   ],
   "source": [
    "# Data set before Standardization\n",
    "datanumerical=data.select_dtypes(include=np.number)\n",
    "print(\"Data set before Standardization\")\n",
    "datanumerical"
   ]
  },
  {
   "cell_type": "code",
   "execution_count": 50,
   "id": "64933c5a",
   "metadata": {},
   "outputs": [
    {
     "name": "stdout",
     "output_type": "stream",
     "text": [
      "Data set after Standardization\n"
     ]
    },
    {
     "data": {
      "text/html": [
       "<div>\n",
       "<style scoped>\n",
       "    .dataframe tbody tr th:only-of-type {\n",
       "        vertical-align: middle;\n",
       "    }\n",
       "\n",
       "    .dataframe tbody tr th {\n",
       "        vertical-align: top;\n",
       "    }\n",
       "\n",
       "    .dataframe thead th {\n",
       "        text-align: right;\n",
       "    }\n",
       "</style>\n",
       "<table border=\"1\" class=\"dataframe\">\n",
       "  <thead>\n",
       "    <tr style=\"text-align: right;\">\n",
       "      <th></th>\n",
       "      <th>Volume</th>\n",
       "      <th>Avg Price</th>\n",
       "      <th>Total Sales Value</th>\n",
       "      <th>Discount Rate (%)</th>\n",
       "      <th>Discount Amount</th>\n",
       "      <th>Net Sales Value</th>\n",
       "    </tr>\n",
       "  </thead>\n",
       "  <tbody>\n",
       "    <tr>\n",
       "      <th>0</th>\n",
       "      <td>2.347417</td>\n",
       "      <td>0.091072</td>\n",
       "      <td>2.922469</td>\n",
       "      <td>-0.829365</td>\n",
       "      <td>3.948422</td>\n",
       "      <td>2.801638</td>\n",
       "    </tr>\n",
       "    <tr>\n",
       "      <th>1</th>\n",
       "      <td>1.165831</td>\n",
       "      <td>-0.019548</td>\n",
       "      <td>1.329516</td>\n",
       "      <td>-0.851714</td>\n",
       "      <td>1.846958</td>\n",
       "      <td>1.269613</td>\n",
       "    </tr>\n",
       "    <tr>\n",
       "      <th>2</th>\n",
       "      <td>0.456880</td>\n",
       "      <td>0.312312</td>\n",
       "      <td>1.561038</td>\n",
       "      <td>-1.350129</td>\n",
       "      <td>1.621190</td>\n",
       "      <td>1.543957</td>\n",
       "    </tr>\n",
       "    <tr>\n",
       "      <th>3</th>\n",
       "      <td>0.220563</td>\n",
       "      <td>0.533552</td>\n",
       "      <td>1.717365</td>\n",
       "      <td>-1.947555</td>\n",
       "      <td>1.112568</td>\n",
       "      <td>1.763847</td>\n",
       "    </tr>\n",
       "    <tr>\n",
       "      <th>4</th>\n",
       "      <td>-0.488389</td>\n",
       "      <td>-0.130168</td>\n",
       "      <td>-0.188242</td>\n",
       "      <td>0.672990</td>\n",
       "      <td>0.227598</td>\n",
       "      <td>-0.227342</td>\n",
       "    </tr>\n",
       "    <tr>\n",
       "      <th>...</th>\n",
       "      <td>...</td>\n",
       "      <td>...</td>\n",
       "      <td>...</td>\n",
       "      <td>...</td>\n",
       "      <td>...</td>\n",
       "      <td>...</td>\n",
       "    </tr>\n",
       "    <tr>\n",
       "      <th>445</th>\n",
       "      <td>-0.724706</td>\n",
       "      <td>-0.506277</td>\n",
       "      <td>-0.617647</td>\n",
       "      <td>0.075924</td>\n",
       "      <td>-0.652815</td>\n",
       "      <td>-0.609783</td>\n",
       "    </tr>\n",
       "    <tr>\n",
       "      <th>446</th>\n",
       "      <td>0.220563</td>\n",
       "      <td>-0.434374</td>\n",
       "      <td>-0.360400</td>\n",
       "      <td>0.450596</td>\n",
       "      <td>-0.152022</td>\n",
       "      <td>-0.378079</td>\n",
       "    </tr>\n",
       "    <tr>\n",
       "      <th>447</th>\n",
       "      <td>-0.724706</td>\n",
       "      <td>-0.489684</td>\n",
       "      <td>-0.605774</td>\n",
       "      <td>0.902788</td>\n",
       "      <td>-0.607464</td>\n",
       "      <td>-0.601252</td>\n",
       "    </tr>\n",
       "    <tr>\n",
       "      <th>448</th>\n",
       "      <td>-0.488389</td>\n",
       "      <td>-0.473091</td>\n",
       "      <td>-0.556303</td>\n",
       "      <td>0.388042</td>\n",
       "      <td>-0.529789</td>\n",
       "      <td>-0.554881</td>\n",
       "    </tr>\n",
       "    <tr>\n",
       "      <th>449</th>\n",
       "      <td>-0.961023</td>\n",
       "      <td>-0.406719</td>\n",
       "      <td>-0.607753</td>\n",
       "      <td>0.042188</td>\n",
       "      <td>-0.636636</td>\n",
       "      <td>-0.600571</td>\n",
       "    </tr>\n",
       "  </tbody>\n",
       "</table>\n",
       "<p>450 rows × 6 columns</p>\n",
       "</div>"
      ],
      "text/plain": [
       "       Volume  Avg Price  Total Sales Value  Discount Rate (%)  \\\n",
       "0    2.347417   0.091072           2.922469          -0.829365   \n",
       "1    1.165831  -0.019548           1.329516          -0.851714   \n",
       "2    0.456880   0.312312           1.561038          -1.350129   \n",
       "3    0.220563   0.533552           1.717365          -1.947555   \n",
       "4   -0.488389  -0.130168          -0.188242           0.672990   \n",
       "..        ...        ...                ...                ...   \n",
       "445 -0.724706  -0.506277          -0.617647           0.075924   \n",
       "446  0.220563  -0.434374          -0.360400           0.450596   \n",
       "447 -0.724706  -0.489684          -0.605774           0.902788   \n",
       "448 -0.488389  -0.473091          -0.556303           0.388042   \n",
       "449 -0.961023  -0.406719          -0.607753           0.042188   \n",
       "\n",
       "     Discount Amount  Net Sales Value  \n",
       "0           3.948422         2.801638  \n",
       "1           1.846958         1.269613  \n",
       "2           1.621190         1.543957  \n",
       "3           1.112568         1.763847  \n",
       "4           0.227598        -0.227342  \n",
       "..               ...              ...  \n",
       "445        -0.652815        -0.609783  \n",
       "446        -0.152022        -0.378079  \n",
       "447        -0.607464        -0.601252  \n",
       "448        -0.529789        -0.554881  \n",
       "449        -0.636636        -0.600571  \n",
       "\n",
       "[450 rows x 6 columns]"
      ]
     },
     "execution_count": 50,
     "metadata": {},
     "output_type": "execute_result"
    }
   ],
   "source": [
    "# Data set after Standardization\n",
    "data_standardized = datanumerical.apply(standardize)\n",
    "print(\"Data set after Standardization\")\n",
    "data_standardized"
   ]
  },
  {
   "cell_type": "markdown",
   "id": "2dbea201",
   "metadata": {},
   "source": [
    "# Conversion of Categorical Data into Dummy Variables\n",
    "*   While traning the model, model cant interpret effective categorical column than numerical column\n",
    "*   One hot coding help a data convert categorical column into numerical column without loosing its mean\n",
    "*  it convert column into 0 and 1\n",
    "* onehot  encoding lead to increase data set size"
   ]
  },
  {
   "cell_type": "code",
   "execution_count": 51,
   "id": "f7f1dd4a",
   "metadata": {},
   "outputs": [
    {
     "data": {
      "text/html": [
       "<div>\n",
       "<style scoped>\n",
       "    .dataframe tbody tr th:only-of-type {\n",
       "        vertical-align: middle;\n",
       "    }\n",
       "\n",
       "    .dataframe tbody tr th {\n",
       "        vertical-align: top;\n",
       "    }\n",
       "\n",
       "    .dataframe thead th {\n",
       "        text-align: right;\n",
       "    }\n",
       "</style>\n",
       "<table border=\"1\" class=\"dataframe\">\n",
       "  <thead>\n",
       "    <tr style=\"text-align: right;\">\n",
       "      <th></th>\n",
       "      <th>Date</th>\n",
       "      <th>Day</th>\n",
       "      <th>SKU</th>\n",
       "      <th>City</th>\n",
       "      <th>Volume</th>\n",
       "      <th>BU</th>\n",
       "      <th>Brand</th>\n",
       "      <th>Model</th>\n",
       "      <th>Avg Price</th>\n",
       "      <th>Total Sales Value</th>\n",
       "      <th>Discount Rate (%)</th>\n",
       "      <th>Discount Amount</th>\n",
       "      <th>Net Sales Value</th>\n",
       "    </tr>\n",
       "  </thead>\n",
       "  <tbody>\n",
       "    <tr>\n",
       "      <th>0</th>\n",
       "      <td>01-04-2021</td>\n",
       "      <td>Thursday</td>\n",
       "      <td>M01</td>\n",
       "      <td>C</td>\n",
       "      <td>15</td>\n",
       "      <td>Mobiles</td>\n",
       "      <td>RealU</td>\n",
       "      <td>RU-10</td>\n",
       "      <td>12100</td>\n",
       "      <td>181500</td>\n",
       "      <td>11.654820</td>\n",
       "      <td>21153.498820</td>\n",
       "      <td>160346.501180</td>\n",
       "    </tr>\n",
       "    <tr>\n",
       "      <th>1</th>\n",
       "      <td>01-04-2021</td>\n",
       "      <td>Thursday</td>\n",
       "      <td>M02</td>\n",
       "      <td>C</td>\n",
       "      <td>10</td>\n",
       "      <td>Mobiles</td>\n",
       "      <td>RealU</td>\n",
       "      <td>RU-9 Plus</td>\n",
       "      <td>10100</td>\n",
       "      <td>101000</td>\n",
       "      <td>11.560498</td>\n",
       "      <td>11676.102961</td>\n",
       "      <td>89323.897039</td>\n",
       "    </tr>\n",
       "    <tr>\n",
       "      <th>2</th>\n",
       "      <td>01-04-2021</td>\n",
       "      <td>Thursday</td>\n",
       "      <td>M03</td>\n",
       "      <td>C</td>\n",
       "      <td>7</td>\n",
       "      <td>Mobiles</td>\n",
       "      <td>YouM</td>\n",
       "      <td>YM-99</td>\n",
       "      <td>16100</td>\n",
       "      <td>112700</td>\n",
       "      <td>9.456886</td>\n",
       "      <td>10657.910157</td>\n",
       "      <td>102042.089843</td>\n",
       "    </tr>\n",
       "    <tr>\n",
       "      <th>3</th>\n",
       "      <td>01-04-2021</td>\n",
       "      <td>Thursday</td>\n",
       "      <td>M04</td>\n",
       "      <td>C</td>\n",
       "      <td>6</td>\n",
       "      <td>Mobiles</td>\n",
       "      <td>YouM</td>\n",
       "      <td>YM-99 Plus</td>\n",
       "      <td>20100</td>\n",
       "      <td>120600</td>\n",
       "      <td>6.935385</td>\n",
       "      <td>8364.074702</td>\n",
       "      <td>112235.925298</td>\n",
       "    </tr>\n",
       "    <tr>\n",
       "      <th>4</th>\n",
       "      <td>01-04-2021</td>\n",
       "      <td>Thursday</td>\n",
       "      <td>M05</td>\n",
       "      <td>C</td>\n",
       "      <td>3</td>\n",
       "      <td>Mobiles</td>\n",
       "      <td>YouM</td>\n",
       "      <td>YM-98</td>\n",
       "      <td>8100</td>\n",
       "      <td>24300</td>\n",
       "      <td>17.995663</td>\n",
       "      <td>4372.946230</td>\n",
       "      <td>19927.053770</td>\n",
       "    </tr>\n",
       "  </tbody>\n",
       "</table>\n",
       "</div>"
      ],
      "text/plain": [
       "         Date       Day  SKU City  Volume       BU  Brand       Model  \\\n",
       "0  01-04-2021  Thursday  M01    C      15  Mobiles  RealU       RU-10   \n",
       "1  01-04-2021  Thursday  M02    C      10  Mobiles  RealU   RU-9 Plus   \n",
       "2  01-04-2021  Thursday  M03    C       7  Mobiles   YouM       YM-99   \n",
       "3  01-04-2021  Thursday  M04    C       6  Mobiles   YouM  YM-99 Plus   \n",
       "4  01-04-2021  Thursday  M05    C       3  Mobiles   YouM      YM-98    \n",
       "\n",
       "   Avg Price  Total Sales Value  Discount Rate (%)  Discount Amount  \\\n",
       "0      12100             181500          11.654820     21153.498820   \n",
       "1      10100             101000          11.560498     11676.102961   \n",
       "2      16100             112700           9.456886     10657.910157   \n",
       "3      20100             120600           6.935385      8364.074702   \n",
       "4       8100              24300          17.995663      4372.946230   \n",
       "\n",
       "   Net Sales Value  \n",
       "0    160346.501180  \n",
       "1     89323.897039  \n",
       "2    102042.089843  \n",
       "3    112235.925298  \n",
       "4     19927.053770  "
      ]
     },
     "execution_count": 51,
     "metadata": {},
     "output_type": "execute_result"
    }
   ],
   "source": [
    "data.head()"
   ]
  },
  {
   "cell_type": "code",
   "execution_count": 52,
   "id": "896b22bd",
   "metadata": {},
   "outputs": [],
   "source": [
    "df=data.copy()\n",
    "df = pd.get_dummies(df, columns=['Day', 'City', 'BU', 'Brand', 'Model'], dtype=int)"
   ]
  },
  {
   "cell_type": "code",
   "execution_count": 53,
   "id": "43339588",
   "metadata": {},
   "outputs": [
    {
     "data": {
      "text/html": [
       "<div>\n",
       "<style scoped>\n",
       "    .dataframe tbody tr th:only-of-type {\n",
       "        vertical-align: middle;\n",
       "    }\n",
       "\n",
       "    .dataframe tbody tr th {\n",
       "        vertical-align: top;\n",
       "    }\n",
       "\n",
       "    .dataframe thead th {\n",
       "        text-align: right;\n",
       "    }\n",
       "</style>\n",
       "<table border=\"1\" class=\"dataframe\">\n",
       "  <thead>\n",
       "    <tr style=\"text-align: right;\">\n",
       "      <th></th>\n",
       "      <th>Date</th>\n",
       "      <th>SKU</th>\n",
       "      <th>Volume</th>\n",
       "      <th>Avg Price</th>\n",
       "      <th>Total Sales Value</th>\n",
       "      <th>Discount Rate (%)</th>\n",
       "      <th>Discount Amount</th>\n",
       "      <th>Net Sales Value</th>\n",
       "      <th>Day_Friday</th>\n",
       "      <th>Day_Monday</th>\n",
       "      <th>...</th>\n",
       "      <th>Model_Vedic Cream</th>\n",
       "      <th>Model_Vedic Oil</th>\n",
       "      <th>Model_Vedic Shampoo</th>\n",
       "      <th>Model_W-Casuals</th>\n",
       "      <th>Model_W-Inners</th>\n",
       "      <th>Model_W-Lounge</th>\n",
       "      <th>Model_W-Western</th>\n",
       "      <th>Model_YM-98</th>\n",
       "      <th>Model_YM-99</th>\n",
       "      <th>Model_YM-99 Plus</th>\n",
       "    </tr>\n",
       "  </thead>\n",
       "  <tbody>\n",
       "    <tr>\n",
       "      <th>0</th>\n",
       "      <td>01-04-2021</td>\n",
       "      <td>M01</td>\n",
       "      <td>15</td>\n",
       "      <td>12100</td>\n",
       "      <td>181500</td>\n",
       "      <td>11.654820</td>\n",
       "      <td>21153.498820</td>\n",
       "      <td>160346.501180</td>\n",
       "      <td>0</td>\n",
       "      <td>0</td>\n",
       "      <td>...</td>\n",
       "      <td>0</td>\n",
       "      <td>0</td>\n",
       "      <td>0</td>\n",
       "      <td>0</td>\n",
       "      <td>0</td>\n",
       "      <td>0</td>\n",
       "      <td>0</td>\n",
       "      <td>0</td>\n",
       "      <td>0</td>\n",
       "      <td>0</td>\n",
       "    </tr>\n",
       "    <tr>\n",
       "      <th>1</th>\n",
       "      <td>01-04-2021</td>\n",
       "      <td>M02</td>\n",
       "      <td>10</td>\n",
       "      <td>10100</td>\n",
       "      <td>101000</td>\n",
       "      <td>11.560498</td>\n",
       "      <td>11676.102961</td>\n",
       "      <td>89323.897039</td>\n",
       "      <td>0</td>\n",
       "      <td>0</td>\n",
       "      <td>...</td>\n",
       "      <td>0</td>\n",
       "      <td>0</td>\n",
       "      <td>0</td>\n",
       "      <td>0</td>\n",
       "      <td>0</td>\n",
       "      <td>0</td>\n",
       "      <td>0</td>\n",
       "      <td>0</td>\n",
       "      <td>0</td>\n",
       "      <td>0</td>\n",
       "    </tr>\n",
       "    <tr>\n",
       "      <th>2</th>\n",
       "      <td>01-04-2021</td>\n",
       "      <td>M03</td>\n",
       "      <td>7</td>\n",
       "      <td>16100</td>\n",
       "      <td>112700</td>\n",
       "      <td>9.456886</td>\n",
       "      <td>10657.910157</td>\n",
       "      <td>102042.089843</td>\n",
       "      <td>0</td>\n",
       "      <td>0</td>\n",
       "      <td>...</td>\n",
       "      <td>0</td>\n",
       "      <td>0</td>\n",
       "      <td>0</td>\n",
       "      <td>0</td>\n",
       "      <td>0</td>\n",
       "      <td>0</td>\n",
       "      <td>0</td>\n",
       "      <td>0</td>\n",
       "      <td>1</td>\n",
       "      <td>0</td>\n",
       "    </tr>\n",
       "    <tr>\n",
       "      <th>3</th>\n",
       "      <td>01-04-2021</td>\n",
       "      <td>M04</td>\n",
       "      <td>6</td>\n",
       "      <td>20100</td>\n",
       "      <td>120600</td>\n",
       "      <td>6.935385</td>\n",
       "      <td>8364.074702</td>\n",
       "      <td>112235.925298</td>\n",
       "      <td>0</td>\n",
       "      <td>0</td>\n",
       "      <td>...</td>\n",
       "      <td>0</td>\n",
       "      <td>0</td>\n",
       "      <td>0</td>\n",
       "      <td>0</td>\n",
       "      <td>0</td>\n",
       "      <td>0</td>\n",
       "      <td>0</td>\n",
       "      <td>0</td>\n",
       "      <td>0</td>\n",
       "      <td>1</td>\n",
       "    </tr>\n",
       "    <tr>\n",
       "      <th>4</th>\n",
       "      <td>01-04-2021</td>\n",
       "      <td>M05</td>\n",
       "      <td>3</td>\n",
       "      <td>8100</td>\n",
       "      <td>24300</td>\n",
       "      <td>17.995663</td>\n",
       "      <td>4372.946230</td>\n",
       "      <td>19927.053770</td>\n",
       "      <td>0</td>\n",
       "      <td>0</td>\n",
       "      <td>...</td>\n",
       "      <td>0</td>\n",
       "      <td>0</td>\n",
       "      <td>0</td>\n",
       "      <td>0</td>\n",
       "      <td>0</td>\n",
       "      <td>0</td>\n",
       "      <td>0</td>\n",
       "      <td>1</td>\n",
       "      <td>0</td>\n",
       "      <td>0</td>\n",
       "    </tr>\n",
       "    <tr>\n",
       "      <th>...</th>\n",
       "      <td>...</td>\n",
       "      <td>...</td>\n",
       "      <td>...</td>\n",
       "      <td>...</td>\n",
       "      <td>...</td>\n",
       "      <td>...</td>\n",
       "      <td>...</td>\n",
       "      <td>...</td>\n",
       "      <td>...</td>\n",
       "      <td>...</td>\n",
       "      <td>...</td>\n",
       "      <td>...</td>\n",
       "      <td>...</td>\n",
       "      <td>...</td>\n",
       "      <td>...</td>\n",
       "      <td>...</td>\n",
       "      <td>...</td>\n",
       "      <td>...</td>\n",
       "      <td>...</td>\n",
       "      <td>...</td>\n",
       "      <td>...</td>\n",
       "    </tr>\n",
       "    <tr>\n",
       "      <th>445</th>\n",
       "      <td>15-04-2021</td>\n",
       "      <td>L06</td>\n",
       "      <td>2</td>\n",
       "      <td>1300</td>\n",
       "      <td>2600</td>\n",
       "      <td>15.475687</td>\n",
       "      <td>402.367873</td>\n",
       "      <td>2197.632127</td>\n",
       "      <td>0</td>\n",
       "      <td>0</td>\n",
       "      <td>...</td>\n",
       "      <td>0</td>\n",
       "      <td>0</td>\n",
       "      <td>0</td>\n",
       "      <td>0</td>\n",
       "      <td>0</td>\n",
       "      <td>0</td>\n",
       "      <td>0</td>\n",
       "      <td>0</td>\n",
       "      <td>0</td>\n",
       "      <td>0</td>\n",
       "    </tr>\n",
       "    <tr>\n",
       "      <th>446</th>\n",
       "      <td>15-04-2021</td>\n",
       "      <td>L07</td>\n",
       "      <td>6</td>\n",
       "      <td>2600</td>\n",
       "      <td>15600</td>\n",
       "      <td>17.057027</td>\n",
       "      <td>2660.896242</td>\n",
       "      <td>12939.103758</td>\n",
       "      <td>0</td>\n",
       "      <td>0</td>\n",
       "      <td>...</td>\n",
       "      <td>0</td>\n",
       "      <td>0</td>\n",
       "      <td>0</td>\n",
       "      <td>0</td>\n",
       "      <td>0</td>\n",
       "      <td>0</td>\n",
       "      <td>1</td>\n",
       "      <td>0</td>\n",
       "      <td>0</td>\n",
       "      <td>0</td>\n",
       "    </tr>\n",
       "    <tr>\n",
       "      <th>447</th>\n",
       "      <td>15-04-2021</td>\n",
       "      <td>L08</td>\n",
       "      <td>2</td>\n",
       "      <td>1600</td>\n",
       "      <td>3200</td>\n",
       "      <td>18.965550</td>\n",
       "      <td>606.897606</td>\n",
       "      <td>2593.102394</td>\n",
       "      <td>0</td>\n",
       "      <td>0</td>\n",
       "      <td>...</td>\n",
       "      <td>0</td>\n",
       "      <td>0</td>\n",
       "      <td>0</td>\n",
       "      <td>0</td>\n",
       "      <td>0</td>\n",
       "      <td>1</td>\n",
       "      <td>0</td>\n",
       "      <td>0</td>\n",
       "      <td>0</td>\n",
       "      <td>0</td>\n",
       "    </tr>\n",
       "    <tr>\n",
       "      <th>448</th>\n",
       "      <td>15-04-2021</td>\n",
       "      <td>L09</td>\n",
       "      <td>3</td>\n",
       "      <td>1900</td>\n",
       "      <td>5700</td>\n",
       "      <td>16.793014</td>\n",
       "      <td>957.201826</td>\n",
       "      <td>4742.798174</td>\n",
       "      <td>0</td>\n",
       "      <td>0</td>\n",
       "      <td>...</td>\n",
       "      <td>0</td>\n",
       "      <td>0</td>\n",
       "      <td>0</td>\n",
       "      <td>0</td>\n",
       "      <td>0</td>\n",
       "      <td>0</td>\n",
       "      <td>0</td>\n",
       "      <td>0</td>\n",
       "      <td>0</td>\n",
       "      <td>0</td>\n",
       "    </tr>\n",
       "    <tr>\n",
       "      <th>449</th>\n",
       "      <td>15-04-2021</td>\n",
       "      <td>L10</td>\n",
       "      <td>1</td>\n",
       "      <td>3100</td>\n",
       "      <td>3100</td>\n",
       "      <td>15.333300</td>\n",
       "      <td>475.332295</td>\n",
       "      <td>2624.667705</td>\n",
       "      <td>0</td>\n",
       "      <td>0</td>\n",
       "      <td>...</td>\n",
       "      <td>0</td>\n",
       "      <td>0</td>\n",
       "      <td>0</td>\n",
       "      <td>0</td>\n",
       "      <td>0</td>\n",
       "      <td>0</td>\n",
       "      <td>0</td>\n",
       "      <td>0</td>\n",
       "      <td>0</td>\n",
       "      <td>0</td>\n",
       "    </tr>\n",
       "  </tbody>\n",
       "</table>\n",
       "<p>450 rows × 58 columns</p>\n",
       "</div>"
      ],
      "text/plain": [
       "           Date  SKU  Volume  Avg Price  Total Sales Value  Discount Rate (%)  \\\n",
       "0    01-04-2021  M01      15      12100             181500          11.654820   \n",
       "1    01-04-2021  M02      10      10100             101000          11.560498   \n",
       "2    01-04-2021  M03       7      16100             112700           9.456886   \n",
       "3    01-04-2021  M04       6      20100             120600           6.935385   \n",
       "4    01-04-2021  M05       3       8100              24300          17.995663   \n",
       "..          ...  ...     ...        ...                ...                ...   \n",
       "445  15-04-2021  L06       2       1300               2600          15.475687   \n",
       "446  15-04-2021  L07       6       2600              15600          17.057027   \n",
       "447  15-04-2021  L08       2       1600               3200          18.965550   \n",
       "448  15-04-2021  L09       3       1900               5700          16.793014   \n",
       "449  15-04-2021  L10       1       3100               3100          15.333300   \n",
       "\n",
       "     Discount Amount  Net Sales Value  Day_Friday  Day_Monday  ...  \\\n",
       "0       21153.498820    160346.501180           0           0  ...   \n",
       "1       11676.102961     89323.897039           0           0  ...   \n",
       "2       10657.910157    102042.089843           0           0  ...   \n",
       "3        8364.074702    112235.925298           0           0  ...   \n",
       "4        4372.946230     19927.053770           0           0  ...   \n",
       "..               ...              ...         ...         ...  ...   \n",
       "445       402.367873      2197.632127           0           0  ...   \n",
       "446      2660.896242     12939.103758           0           0  ...   \n",
       "447       606.897606      2593.102394           0           0  ...   \n",
       "448       957.201826      4742.798174           0           0  ...   \n",
       "449       475.332295      2624.667705           0           0  ...   \n",
       "\n",
       "     Model_Vedic Cream  Model_Vedic Oil  Model_Vedic Shampoo  Model_W-Casuals  \\\n",
       "0                    0                0                    0                0   \n",
       "1                    0                0                    0                0   \n",
       "2                    0                0                    0                0   \n",
       "3                    0                0                    0                0   \n",
       "4                    0                0                    0                0   \n",
       "..                 ...              ...                  ...              ...   \n",
       "445                  0                0                    0                0   \n",
       "446                  0                0                    0                0   \n",
       "447                  0                0                    0                0   \n",
       "448                  0                0                    0                0   \n",
       "449                  0                0                    0                0   \n",
       "\n",
       "     Model_W-Inners  Model_W-Lounge  Model_W-Western  Model_YM-98   \\\n",
       "0                 0               0                0             0   \n",
       "1                 0               0                0             0   \n",
       "2                 0               0                0             0   \n",
       "3                 0               0                0             0   \n",
       "4                 0               0                0             1   \n",
       "..              ...             ...              ...           ...   \n",
       "445               0               0                0             0   \n",
       "446               0               0                1             0   \n",
       "447               0               1                0             0   \n",
       "448               0               0                0             0   \n",
       "449               0               0                0             0   \n",
       "\n",
       "     Model_YM-99  Model_YM-99 Plus  \n",
       "0              0                 0  \n",
       "1              0                 0  \n",
       "2              1                 0  \n",
       "3              0                 1  \n",
       "4              0                 0  \n",
       "..           ...               ...  \n",
       "445            0                 0  \n",
       "446            0                 0  \n",
       "447            0                 0  \n",
       "448            0                 0  \n",
       "449            0                 0  \n",
       "\n",
       "[450 rows x 58 columns]"
      ]
     },
     "execution_count": 53,
     "metadata": {},
     "output_type": "execute_result"
    }
   ],
   "source": [
    "df"
   ]
  },
  {
   "cell_type": "code",
   "execution_count": null,
   "id": "bd3bed55",
   "metadata": {},
   "outputs": [],
   "source": []
  }
 ],
 "metadata": {
  "kernelspec": {
   "display_name": "Python 3 (ipykernel)",
   "language": "python",
   "name": "python3"
  },
  "language_info": {
   "codemirror_mode": {
    "name": "ipython",
    "version": 3
   },
   "file_extension": ".py",
   "mimetype": "text/x-python",
   "name": "python",
   "nbconvert_exporter": "python",
   "pygments_lexer": "ipython3",
   "version": "3.9.21"
  }
 },
 "nbformat": 4,
 "nbformat_minor": 5
}
