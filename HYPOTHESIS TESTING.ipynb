{
 "cells": [
  {
   "cell_type": "markdown",
   "id": "56a3bd06",
   "metadata": {},
   "source": [
    "### Objective:\n",
    "To investigate the restaurant owners' claim about the increase in weekly operating costs using hypothesis testing."
   ]
  },
  {
   "cell_type": "code",
   "execution_count": 1,
   "id": "1e8e042d",
   "metadata": {},
   "outputs": [],
   "source": [
    "#import the libraries\n",
    "from scipy import stats\n",
    "import pandas as pd\n",
    "import scipy\n",
    "import numpy as np"
   ]
  },
  {
   "cell_type": "code",
   "execution_count": 2,
   "id": "68ea0cd7",
   "metadata": {},
   "outputs": [],
   "source": [
    "# Given data"
   ]
  },
  {
   "cell_type": "code",
   "execution_count": 3,
   "id": "587b316c",
   "metadata": {},
   "outputs": [],
   "source": [
    "x_bar= 3050  # sample mean"
   ]
  },
  {
   "cell_type": "code",
   "execution_count": 4,
   "id": "10ecaba5",
   "metadata": {},
   "outputs": [],
   "source": [
    "n = 25  # Sample size"
   ]
  },
  {
   "cell_type": "code",
   "execution_count": 5,
   "id": "5cef13c7",
   "metadata": {},
   "outputs": [],
   "source": [
    "X_bar=600 # theoretical mean"
   ]
  },
  {
   "cell_type": "code",
   "execution_count": 6,
   "id": "3667a273",
   "metadata": {},
   "outputs": [],
   "source": [
    "sigma_X = 25  # Standard deviation"
   ]
  },
  {
   "cell_type": "code",
   "execution_count": 7,
   "id": "9074cc2d",
   "metadata": {},
   "outputs": [],
   "source": [
    "sigma = 5 * sigma_X  # Standard deviation of weekly cost"
   ]
  },
  {
   "cell_type": "code",
   "execution_count": 8,
   "id": "f0bf6775",
   "metadata": {},
   "outputs": [],
   "source": [
    "mu = 1000 + 5 * X_bar  # Theoretical mean weekly cost"
   ]
  },
  {
   "cell_type": "code",
   "execution_count": 9,
   "id": "a8810506",
   "metadata": {},
   "outputs": [],
   "source": [
    "alpha = 0.05  # Significance level"
   ]
  },
  {
   "cell_type": "markdown",
   "id": "9c9a84c7",
   "metadata": {},
   "source": [
    "### Hypothesis"
   ]
  },
  {
   "cell_type": "markdown",
   "id": "f7b82fb8",
   "metadata": {},
   "source": [
    "* H0(Null hypothesis):The original cost model is still accurate, meaning the average weekly cost follows the equation.\n",
    "* H1(Alternative Hypothesis):The actual operating costs are higher than predicted by the given model."
   ]
  },
  {
   "cell_type": "code",
   "execution_count": 10,
   "id": "3ca78ff1",
   "metadata": {},
   "outputs": [
    {
     "data": {
      "text/plain": [
       "[-38.0]"
      ]
     },
     "execution_count": 10,
     "metadata": {},
     "output_type": "execute_result"
    }
   ],
   "source": [
    "# Compute the test statistic\n",
    "t_stat = [(x_bar - mu) / (sigma / np.sqrt(n))];t_stat"
   ]
  },
  {
   "cell_type": "code",
   "execution_count": 11,
   "id": "2fc245f1",
   "metadata": {},
   "outputs": [],
   "source": [
    "# Step 2: Calculate the test statistic (Z-score for large sample approximation)\n",
    "z_score = (x_bar - X_bar) / (sigma / np.sqrt(n))"
   ]
  },
  {
   "cell_type": "code",
   "execution_count": 12,
   "id": "2f084853",
   "metadata": {},
   "outputs": [
    {
     "data": {
      "text/plain": [
       "1.6448536269514722"
      ]
     },
     "execution_count": 12,
     "metadata": {},
     "output_type": "execute_result"
    }
   ],
   "source": [
    "z_critical = stats.norm.ppf(1 - alpha);z_critical"
   ]
  },
  {
   "cell_type": "code",
   "execution_count": 13,
   "id": "11c76e0f",
   "metadata": {},
   "outputs": [],
   "source": [
    "# Step 4: Decision\n",
    "reject_null = z_score > z_critical"
   ]
  },
  {
   "cell_type": "code",
   "execution_count": 14,
   "id": "0205ab56",
   "metadata": {},
   "outputs": [
    {
     "name": "stdout",
     "output_type": "stream",
     "text": [
      "Sample Mean: 3050\n",
      "Theoretical Mean: 600\n",
      "Standard Deviation of W: 125\n",
      "Test Statistic (Z-score): 98.00\n",
      "Critical Value: 1.64\n",
      "Decision: Reject Null Hypothesis\n"
     ]
    }
   ],
   "source": [
    "# Output results\n",
    "print(f\"Sample Mean: {x_bar}\")\n",
    "print(f\"Theoretical Mean: {X_bar}\")\n",
    "print(f\"Standard Deviation of W: {sigma}\")\n",
    "print(f\"Test Statistic (Z-score): {z_score:.2f}\")\n",
    "print(f\"Critical Value: {z_critical:.2f}\")\n",
    "print(\"Decision: Reject Null Hypothesis\" if reject_null else \"Decision: Fail to Reject Null Hypothesis\")"
   ]
  },
  {
   "cell_type": "code",
   "execution_count": 15,
   "id": "16945025",
   "metadata": {},
   "outputs": [
    {
     "name": "stdout",
     "output_type": "stream",
     "text": [
      "Conclusion: There is strong evidence to support the restaurant owners' claim that weekly operating costs are higher than the model suggests.\n"
     ]
    }
   ],
   "source": [
    "# Step 5: Conclusion\n",
    "if reject_null:\n",
    "    print(\"Conclusion: There is strong evidence to support the restaurant owners' claim that weekly operating costs are higher than the model suggests.\")\n",
    "else:\n",
    "    print(\"Conclusion: There is insufficient evidence to conclude that the weekly operating costs are higher than the model suggests.\")\n",
    "                                                                  "
   ]
  },
  {
   "cell_type": "code",
   "execution_count": null,
   "id": "1e8813ed",
   "metadata": {},
   "outputs": [],
   "source": []
  }
 ],
 "metadata": {
  "kernelspec": {
   "display_name": "Python 3 (ipykernel)",
   "language": "python",
   "name": "python3"
  },
  "language_info": {
   "codemirror_mode": {
    "name": "ipython",
    "version": 3
   },
   "file_extension": ".py",
   "mimetype": "text/x-python",
   "name": "python",
   "nbconvert_exporter": "python",
   "pygments_lexer": "ipython3",
   "version": "3.9.21"
  }
 },
 "nbformat": 4,
 "nbformat_minor": 5
}
