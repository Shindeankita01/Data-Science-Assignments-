{
 "cells": [
  {
   "cell_type": "code",
   "execution_count": 1,
   "metadata": {
    "id": "Bzi1xMsBDVmK"
   },
   "outputs": [],
   "source": [
    "# Importing Library\n",
    "from scipy import stats\n",
    "import pandas as pd\n",
    "import numpy as np"
   ]
  },
  {
   "cell_type": "code",
   "execution_count": 2,
   "metadata": {
    "colab": {
     "base_uri": "https://localhost:8080/"
    },
    "id": "lYaEY2NoBvf7",
    "outputId": "e601362d-631e-46c8-dd42-852f85536108"
   },
   "outputs": [
    {
     "name": "stdout",
     "output_type": "stream",
     "text": [
      "The estimated mean durability of their print head in term of number charactor printed in range of \n",
      " 0.6831453080405262 to 1.794188025292807 \n"
     ]
    }
   ],
   "source": [
    "\"\"\"\n",
    "Question 1\n",
    "A total of 15 print-heads were randomly selected and tested until failure.\n",
    "The durability of each print-head (in millions of characters) was recorded as follows:\n",
    " \"\"\"\n",
    "\n",
    "data=[1.13, 1.55, 1.43, 0.92, 1.25, 1.36, 1.32, 0.85, 1.07, 1.48, 1.20, 1.33, 1.18, 1.22, 1.29]\n",
    "# Total element in sample given in statment\n",
    "n=15\n",
    "# In problem statment sigma value is unknown so we are using t distribution\n",
    "\n",
    "confidance_interval=stats.t.interval(0.99,df=n-1,loc=np.mean(data),scale = np.std(data))\n",
    "print(f'The estimated mean durability of their print head in term of number charactor printed in range of \\n {confidance_interval[0]} to {confidance_interval[1]} ')\n"
   ]
  },
  {
   "cell_type": "code",
   "execution_count": 3,
   "metadata": {
    "colab": {
     "base_uri": "https://localhost:8080/"
    },
    "id": "MPanYyLAD39t",
    "outputId": "8ace5381-2b11-4a2b-94bc-50edf03ad566"
   },
   "outputs": [
    {
     "name": "stdout",
     "output_type": "stream",
     "text": [
      "range confidence interval for the mean number of characters printed before failure is between \n",
      " 1.1056514133957607  and 1.3716819199375725\n"
     ]
    }
   ],
   "source": [
    "\"\"\"\n",
    "Question 2\n",
    "we have given sigma value so we are using z distribution\n",
    "\n",
    "\"\"\"\n",
    "sigma=0.2\n",
    "std_error=sigma/np.sqrt(n)\n",
    "confidance_interval=stats.norm.interval(0.99,loc=np.mean(data),scale=std_error)\n",
    "confidance_interval\n",
    "print(f\"range confidence interval for the mean number of characters printed before failure is between \\n {confidance_interval[0]}  and {confidance_interval[1]}\")"
   ]
  },
  {
   "cell_type": "code",
   "execution_count": null,
   "metadata": {
    "id": "-6hUMEDGj0GW"
   },
   "outputs": [],
   "source": []
  },
  {
   "cell_type": "code",
   "execution_count": null,
   "metadata": {},
   "outputs": [],
   "source": []
  },
  {
   "cell_type": "code",
   "execution_count": null,
   "metadata": {},
   "outputs": [],
   "source": []
  },
  {
   "cell_type": "code",
   "execution_count": null,
   "metadata": {},
   "outputs": [],
   "source": []
  }
 ],
 "metadata": {
  "colab": {
   "provenance": []
  },
  "kernelspec": {
   "display_name": "Python 3 (ipykernel)",
   "language": "python",
   "name": "python3"
  },
  "language_info": {
   "codemirror_mode": {
    "name": "ipython",
    "version": 3
   },
   "file_extension": ".py",
   "mimetype": "text/x-python",
   "name": "python",
   "nbconvert_exporter": "python",
   "pygments_lexer": "ipython3",
   "version": "3.9.21"
  }
 },
 "nbformat": 4,
 "nbformat_minor": 1
}
